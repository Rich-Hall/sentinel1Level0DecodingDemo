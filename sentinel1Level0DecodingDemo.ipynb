{
 "cells": [
  {
   "cell_type": "markdown",
   "id": "c031b5af",
   "metadata": {},
   "source": [
    "# Sentinel-1 Level 0 Data Decoding Example"
   ]
  },
  {
   "cell_type": "markdown",
   "id": "f40341a1",
   "metadata": {},
   "source": [
    "Sentinel-1 is a Synthetic Aperture Mapping satellite constellation operated by the European Space Agency (ESA). ESA publish several types of product associated with each data acquisition. Level 1 and Level 2 data files consist of various types of processed SAR images, but the raw packetized data downlinked to the ground is also available in the form of Level 0 products.\n",
    "\n",
    "ESA also publish details of the [image formation algorithm used to generate Level 1 products](https://sentinels.copernicus.eu/web/sentinel/user-guides/document-library/-/asset_publisher/xlslt4309D5h/content/id/4629294?_com_liferay_asset_publisher_web_portlet_AssetPublisherPortlet_INSTANCE_xlslt4309D5h_redirect=https%3A%2F%2Fsentinels.copernicus.eu%2Fweb%2Fsentinel%2Fuser-guides%2Fdocument-library%3Fp_p_id%3Dcom_liferay_asset_publisher_web_portlet_AssetPublisherPortlet_INSTANCE_xlslt4309D5h%26p_p_lifecycle%3D0%26p_p_state%3Dnormal%26p_p_mode%3Dview%26_com_liferay_asset_publisher_web_portlet_AssetPublisherPortlet_INSTANCE_xlslt4309D5h_cur%3D2%26_com_liferay_asset_publisher_web_portlet_AssetPublisherPortlet_INSTANCE_xlslt4309D5h_delta%3D10%26p_r_p_resetCur%3Dfalse%26_com_liferay_asset_publisher_web_portlet_AssetPublisherPortlet_INSTANCE_xlslt4309D5h_assetEntryId%3D4629294) and [structure of Sentinel-1 data packets](https://sentinels.copernicus.eu/web/sentinel/user-guides/document-library/-/asset_publisher/xlslt4309D5h/content/id/3120468?_com_liferay_asset_publisher_web_portlet_AssetPublisherPortlet_INSTANCE_xlslt4309D5h_redirect=https%3A%2F%2Fsentinels.copernicus.eu%2Fweb%2Fsentinel%2Fuser-guides%2Fdocument-library%3Fp_p_id%3Dcom_liferay_asset_publisher_web_portlet_AssetPublisherPortlet_INSTANCE_xlslt4309D5h%26p_p_lifecycle%3D0%26p_p_state%3Dnormal%26p_p_mode%3Dview%26_com_liferay_asset_publisher_web_portlet_AssetPublisherPortlet_INSTANCE_xlslt4309D5h_cur%3D13%26_com_liferay_asset_publisher_web_portlet_AssetPublisherPortlet_INSTANCE_xlslt4309D5h_delta%3D10%26p_r_p_resetCur%3Dfalse%26_com_liferay_asset_publisher_web_portlet_AssetPublisherPortlet_INSTANCE_xlslt4309D5h_assetEntryId%3D3120468) in their [document library](https://sentinels.copernicus.eu/web/sentinel/user-guides/document-library).\n",
    "\n",
    "This notebook demonstrates data extraction from Level 0 products using the Sentinel1Decoder Python code at https://github.com/Rich-Hall/sentinel1decoder. An example implementation of the range-Doppler algorithm is also provided to demonstrate image formation from this data."
   ]
  },
  {
   "cell_type": "markdown",
   "id": "67b46537",
   "metadata": {},
   "source": [
    "## 1 - Imports and setup"
   ]
  },
  {
   "cell_type": "code",
   "execution_count": 1,
   "id": "3d2b5d25",
   "metadata": {},
   "outputs": [],
   "source": [
    "import sentinel1decoder\n",
    "import pandas as pd\n",
    "import numpy as np\n",
    "import logging\n",
    "import math\n",
    "import cmath\n",
    "import struct\n",
    "import matplotlib.pyplot as plt\n",
    "from scipy.interpolate import interp1d"
   ]
  },
  {
   "cell_type": "code",
   "execution_count": 2,
   "id": "4cf7595b",
   "metadata": {},
   "outputs": [],
   "source": [
    "filepath = \"./data/sao_paulo/S1A_S3_RAW__0SDH_20220710T213600_20220710T213625_044043_0541DB_56CE/S1A_S3_RAW__0SDH_20220710T213600_20220710T213625_044043_0541DB_56CE.SAFE/\"\n",
    "filename = \"s1a-s3-raw-s-hh-20220710t213600-20220710t213625-044043-0541db.dat\"\n",
    "inputfile = filepath+filename\n",
    "\n",
    "decoder = sentinel1decoder.Level0Decoder(inputfile, log_level=logging.WARNING)"
   ]
  },
  {
   "cell_type": "markdown",
   "id": "8373f40c",
   "metadata": {},
   "source": [
    "## 2 - Extract File Metadata\n",
    "\n",
    "Sentinel-1 level 0 data files consist of the raw packetized data sent to the ground. One packet typically consists of the radar instrument output associated with one radar echo, so a single file typically consists of many thousands of packets. Packets may also consist of other types of data e.g. background noise measurements for instrument calibration.\n",
    "\n",
    "We are working with data acquired in stripmap mode over Sao Paulo and the nearby port of Santos, Brazil. Stripmap data is mainly used to monitor small islands, so is relatively infrequently used. However, it is relatively simple compared to Interferometric Wide Swath mode, the main acquisiton mode used over land, and therefore makes our task of image formation much simpler!\n",
    "\n",
    "Initially we're going to pull the metadata from each packet and output to a Pandas dataframe to examine the file contents. Producing an image from the entirity of the data found in a single file would take a long time and require a lot of memory, so we're aiming to produce an image from just a subset of this data."
   ]
  },
  {
   "cell_type": "code",
   "execution_count": 3,
   "id": "e0cc8371",
   "metadata": {},
   "outputs": [
    {
     "ename": "FileNotFoundError",
     "evalue": "[Errno 2] No such file or directory: './data/sao_paulo/S1A_S3_RAW__0SDH_20220710T213600_20220710T213625_044043_0541DB_56CE/S1A_S3_RAW__0SDH_20220710T213600_20220710T213625_044043_0541DB_56CE.SAFE/s1a-s3-raw-s-hh-20220710t213600-20220710t213625-044043-0541db.dat'",
     "output_type": "error",
     "traceback": [
      "\u001b[1;31m---------------------------------------------------------------------------\u001b[0m",
      "\u001b[1;31mFileNotFoundError\u001b[0m                         Traceback (most recent call last)",
      "Input \u001b[1;32mIn [3]\u001b[0m, in \u001b[0;36m<cell line: 1>\u001b[1;34m()\u001b[0m\n\u001b[1;32m----> 1\u001b[0m df \u001b[38;5;241m=\u001b[39m \u001b[43mdecoder\u001b[49m\u001b[38;5;241;43m.\u001b[39;49m\u001b[43mdecode_metadata\u001b[49m\u001b[43m(\u001b[49m\u001b[43m)\u001b[49m\n\u001b[0;32m      2\u001b[0m df\n",
      "File \u001b[1;32m~\\anaconda3\\envs\\sentinel1\\lib\\site-packages\\sentinel1decoder\\l0decoder.py:41\u001b[0m, in \u001b[0;36mLevel0Decoder.decode_metadata\u001b[1;34m(self)\u001b[0m\n\u001b[0;32m     38\u001b[0m packet_counter \u001b[38;5;241m=\u001b[39m \u001b[38;5;241m0\u001b[39m\n\u001b[0;32m     39\u001b[0m output_row_list \u001b[38;5;241m=\u001b[39m []\n\u001b[1;32m---> 41\u001b[0m \u001b[38;5;28;01mwith\u001b[39;00m \u001b[38;5;28;43mopen\u001b[39;49m\u001b[43m(\u001b[49m\u001b[38;5;28;43mself\u001b[39;49m\u001b[38;5;241;43m.\u001b[39;49m\u001b[43mfilename\u001b[49m\u001b[43m,\u001b[49m\u001b[43m \u001b[49m\u001b[38;5;124;43m'\u001b[39;49m\u001b[38;5;124;43mrb\u001b[39;49m\u001b[38;5;124;43m'\u001b[39;49m\u001b[43m)\u001b[49m \u001b[38;5;28;01mas\u001b[39;00m f:\n\u001b[0;32m     42\u001b[0m \n\u001b[0;32m     43\u001b[0m     \u001b[38;5;66;03m# Each iteration of the below loop will process one space packet.\u001b[39;00m\n\u001b[0;32m     44\u001b[0m     \u001b[38;5;66;03m# An input file typically consists of many packets.\u001b[39;00m\n\u001b[0;32m     45\u001b[0m     \u001b[38;5;66;03m# We don't know how many ahead of time.\u001b[39;00m\n\u001b[0;32m     46\u001b[0m     \u001b[38;5;28;01mwhile\u001b[39;00m \u001b[38;5;28;01mTrue\u001b[39;00m:\n\u001b[0;32m     47\u001b[0m \n\u001b[0;32m     48\u001b[0m         \u001b[38;5;66;03m# ---------------------------------------------------------\u001b[39;00m\n\u001b[1;32m   (...)\u001b[0m\n\u001b[0;32m     52\u001b[0m \n\u001b[0;32m     53\u001b[0m         \u001b[38;5;66;03m# TODO: Break this out into separate function\u001b[39;00m\n\u001b[0;32m     54\u001b[0m         data_buffer \u001b[38;5;241m=\u001b[39m f\u001b[38;5;241m.\u001b[39mread(\u001b[38;5;241m6\u001b[39m)\n",
      "\u001b[1;31mFileNotFoundError\u001b[0m: [Errno 2] No such file or directory: './data/sao_paulo/S1A_S3_RAW__0SDH_20220710T213600_20220710T213625_044043_0541DB_56CE/S1A_S3_RAW__0SDH_20220710T213600_20220710T213625_044043_0541DB_56CE.SAFE/s1a-s3-raw-s-hh-20220710t213600-20220710t213625-044043-0541db.dat'"
     ]
    }
   ],
   "source": [
    "df = decoder.decode_metadata()\n",
    "df"
   ]
  },
  {
   "cell_type": "markdown",
   "id": "d121b6a6",
   "metadata": {},
   "source": [
    "The satellite ephemeris data is sub-commutated across multiple packets due to its relatively low update rate, so we need to perform an extra step to extract this information."
   ]
  },
  {
   "cell_type": "code",
   "execution_count": null,
   "id": "64eb05ab",
   "metadata": {
    "scrolled": false
   },
   "outputs": [],
   "source": [
    "ephemeris = sentinel1decoder.utilities.read_subcommed_data(df)\n",
    "ephemeris"
   ]
  },
  {
   "cell_type": "markdown",
   "id": "b0415d49",
   "metadata": {},
   "source": [
    "## 3 - Extract Data\n",
    "\n",
    "### 3.1 - Select Packets to Process\n",
    "\n",
    "Now we've extracted all the packet metadata, we're going to select the data packets we'll be processing. We want to exclude all packets that don't contain SAR instrument returns, and then pick a small set of these to operate on. For this example we'll be focusing on the coastline around the port of Santos."
   ]
  },
  {
   "cell_type": "code",
   "execution_count": null,
   "id": "bbed11dd",
   "metadata": {},
   "outputs": [],
   "source": [
    "selection = df[df[\"Swath Number\"] == 2]\n",
    "selection = selection[selection[\"BAQ Mode\"] == 12]\n",
    "selection = selection.iloc[9000:13096]\n",
    "selection"
   ]
  },
  {
   "cell_type": "markdown",
   "id": "c79b315a",
   "metadata": {},
   "source": [
    "### 3.2 - Extract Raw I/Q Sensor Data\n",
    "\n",
    "Now we're ready to extract the raw sensor output from the file. The result will be a set of complex I/Q samples measured by the SAR instrument. By stacking these horizontally we can produce a 2D array of data samples, with fast time $\\tau$ along one axis and slow time $\\eta$ along the other. Since all the required information to do this is contained in packet metadata, the decoder outputs data arranged like this automatically."
   ]
  },
  {
   "cell_type": "code",
   "execution_count": null,
   "id": "c6520fef",
   "metadata": {},
   "outputs": [],
   "source": [
    "# Decode the IQ data \n",
    "iq_array = decoder.decode_file(selection)"
   ]
  },
  {
   "cell_type": "markdown",
   "id": "a82cf8eb",
   "metadata": {},
   "source": [
    "Plotting our array, we can see that although there is clearly some structure to the data, we can't yet make out individual features. Our image needs to be focused along both the range and azimuth axes."
   ]
  },
  {
   "cell_type": "code",
   "execution_count": null,
   "id": "2bdcecdd",
   "metadata": {},
   "outputs": [],
   "source": [
    "# Plot the raw IQ data extracted from the data file\n",
    "plt.figure(figsize=(16,100))\n",
    "plt.title(\"Sentinel-1 Raw I/Q Sensor Output\")\n",
    "plt.imshow(abs(iq_array[:,:]), vmin=0, vmax=15, origin='lower')\n",
    "plt.xlabel(\"Fast Time (down range)\")\n",
    "plt.ylabel(\"Slow Time (cross range)\")\n",
    "plt.show()"
   ]
  },
  {
   "cell_type": "markdown",
   "id": "a958d241",
   "metadata": {},
   "source": [
    "## 4 - Image Processing\n",
    "\n",
    "The following section demonstrates an implementation of the range-Doppler algorithm. This essentially consists of the following steps:\n",
    "- Range compression\n",
    "- Transform to range-Doppler domain\n",
    "- Range Cell Migration Correction (RCMC)\n",
    "- Azimuth compression\n",
    "- Transform to time domain\n",
    "- Image formation"
   ]
  },
  {
   "cell_type": "markdown",
   "id": "1652a38b",
   "metadata": {},
   "source": [
    "### 4.1 - Define auxiliary parameters\n",
    "\n",
    "We require a number of parameters in the calculations that follow, so we'll define them all here. These are:\n",
    "- Image sizes\n",
    "- Various transmitted pulse parameters used to synthesize a replica Tx pulse\n",
    "- Sample rates in range and azimuth\n",
    "- The fast time $\\tau$ associated with each range sample along a range line, and the corresponding slant range of closest approach $R_{0}$ for each of these range samples\n",
    "- The frequency axes in range $f_{\\tau}$ and azimuth $f_{\\eta}$ after transforming our array to the frequency domain\n",
    "- The effective spacecraft velocity $V_{r}$. This is a psuedo velocity approximated by $V_{r} \\approx \\sqrt{V_{s} V_{g}}$, where $V_{s}$ is the norm of the satellite velocity vector, and $V_{g}$ is the antenna beam velocity projected onto the ground. $V_{g}$ is calculated numerically acording to the method defined in https://iopscience.iop.org/article/10.1088/1757-899X/1172/1/012012/pdf. Note that $V_{g}$ and hence $V_{r}$ varies by slant range.\n",
    "- The cosine of the instantaneous squint angle $D(f_{\\eta}, V_{r})$, where\n",
    "\n",
    "$$D(f_{\\eta}, V_{r}) = \\sqrt{1 - \\frac{c^{2} f_{\\eta}^{2}}{4 V_{r}^{2} f_{0}^{2}}}$$\n"
   ]
  },
  {
   "cell_type": "code",
   "execution_count": null,
   "id": "b2a7a6f6",
   "metadata": {},
   "outputs": [],
   "source": [
    "# Image sizes\n",
    "len_range_line = iq_array.shape[1]\n",
    "len_az_line = iq_array.shape[0]\n",
    "\n",
    "# Tx pulse parameters\n",
    "c = sentinel1decoder.constants.speed_of_light\n",
    "TXPL = selection[\"Tx Pulse Length\"].unique()[0]\n",
    "TXPSF = selection[\"Tx Pulse Start Frequency\"].unique()[0]\n",
    "TXPRR = selection[\"Tx Ramp Rate\"].unique()[0]\n",
    "RGDEC = selection[\"Range Decimation\"].unique()[0]\n",
    "PRI = selection[\"PRI\"].unique()[0]\n",
    "rank = selection[\"Rank\"].unique()[0]\n",
    "suppressed_data_time = 320/(8*sentinel1decoder.constants.f_ref)\n",
    "range_start_time = selection[\"SWST\"].unique()[0] + suppressed_data_time\n",
    "wavelength = c / 5.405e9\n",
    "\n",
    "# Sample rates\n",
    "range_sample_freq = sentinel1decoder.utilities.range_dec_to_sample_rate(RGDEC)\n",
    "range_sample_period = 1/range_sample_freq\n",
    "az_sample_freq = 1 / PRI\n",
    "az_sample_period = PRI\n",
    "\n",
    "# Fast time vector - defines the time axis along the fast time direction\n",
    "range_line_num = [i for i in range(len_range_line)]\n",
    "fast_time = []\n",
    "for i in range_line_num:\n",
    "    fast_time.append(range_start_time + i*range_sample_period)\n",
    "\n",
    "# Slant range vector - defines R0, the range of closest approach, for each range cell\n",
    "slant_range = []\n",
    "for t in fast_time:\n",
    "    slant_range.append((rank*PRI + t)*c/2)\n",
    "    \n",
    "# Axes - defines the frequency axes in each direction after FFT\n",
    "SWL = len_range_line/range_sample_freq\n",
    "az_freq_vals = np.arange(-az_sample_freq/2, az_sample_freq/2, 1/(PRI*len_az_line))\n",
    "range_freq_vals = np.arange(-range_sample_freq/2, range_sample_freq/2, 1/SWL)\n",
    "\n",
    "# We need two parameters which vary over range and azimuth, so we're going to loop over these once\n",
    "# D is the cosine of the instantaneous squint angle and is defined by the letter D in most literature\n",
    "# Define a function to calculate D, then apply it inside the loop\n",
    "def d(range_freq, velocity):\n",
    "    return math.sqrt(1-((wavelength**2 * range_freq**2)/(4 * velocity**2)))\n",
    "D = np.zeros((len_az_line, len_range_line))\n",
    "\n",
    "# Spacecraft velocity - numerical calculation of the effective spacecraft velocity\n",
    "ecef_vels = ephemeris.apply(lambda x: math.sqrt(x[\"X-axis velocity ECEF\"]**2 + x[\"Y-axis velocity ECEF\"]**2 +x[\"Z-axis velocity ECEF\"]**2), axis=1)\n",
    "velocity_interp = interp1d(ephemeris[\"POD Solution Data Timestamp\"].unique(), ecef_vels.unique(), fill_value=\"extrapolate\")\n",
    "x_interp = interp1d(ephemeris[\"POD Solution Data Timestamp\"].unique(), ephemeris[\"X-axis position ECEF\"].unique(), fill_value=\"extrapolate\")\n",
    "y_interp = interp1d(ephemeris[\"POD Solution Data Timestamp\"].unique(), ephemeris[\"Y-axis position ECEF\"].unique(), fill_value=\"extrapolate\")\n",
    "z_interp = interp1d(ephemeris[\"POD Solution Data Timestamp\"].unique(), ephemeris[\"Z-axis position ECEF\"].unique(), fill_value=\"extrapolate\")\n",
    "space_velocities = selection.apply(lambda x: velocity_interp(x[\"Coarse Time\"] + x[\"Fine Time\"]), axis=1).to_list()\n",
    "\n",
    "x_positions = selection.apply(lambda x: x_interp(x[\"Coarse Time\"] + x[\"Fine Time\"]), axis=1).to_list()\n",
    "y_positions = selection.apply(lambda x: y_interp(x[\"Coarse Time\"] + x[\"Fine Time\"]), axis=1).to_list()\n",
    "z_positions = selection.apply(lambda x: z_interp(x[\"Coarse Time\"] + x[\"Fine Time\"]), axis=1).to_list()\n",
    "\n",
    "a = 6378137 # WGS84 semi major axis\n",
    "b = 6356752.3142 # WGS84 semi minor axis\n",
    "velocities = np.zeros((len_az_line, len_range_line))\n",
    "\n",
    "# Now loop over range and azimuth, and calculate spacecraft velocity and D\n",
    "for i in range(len_az_line):\n",
    "    H = math.sqrt(x_positions[i]**2 + y_positions[i]**2 + z_positions[i]**2)\n",
    "    W = space_velocities[i]/H\n",
    "    lat = math.atan(z_positions[i] / x_positions[i])\n",
    "    local_earth_rad = math.sqrt(((a**2 * math.cos(lat))**2 + (b**2 * math.sin(lat))**2) / ((a * math.cos(lat))**2 + (b * math.sin(lat))**2))\n",
    "    for j in range(len_range_line):\n",
    "        cos_beta = (local_earth_rad**2 + H**2 - slant_range[j]**2) / (2 * local_earth_rad * H)\n",
    "        this_ground_velocity = local_earth_rad * W * cos_beta\n",
    "        velocities[i, j] = math.sqrt(space_velocities[i] * this_ground_velocity)\n",
    "        D[i, j] = d(az_freq_vals[i], velocities[i, j])\n",
    "\n"
   ]
  },
  {
   "cell_type": "markdown",
   "id": "20adf6f0",
   "metadata": {},
   "source": [
    "### 4.2 - Convert data to 2D frequency domain\n",
    "\n",
    "We're going to be doing almost all our calculations in the frequency domain, so the first step is to FFT along the azimuth and range axes."
   ]
  },
  {
   "cell_type": "code",
   "execution_count": null,
   "id": "f7bf9177",
   "metadata": {},
   "outputs": [],
   "source": [
    "freq_domain_data = np.zeros((len_az_line, len_range_line), dtype=complex)\n",
    "\n",
    "for az_index in range(len_az_line):\n",
    "    range_line = iq_array[az_index, :]\n",
    "    range_fft = np.fft.fft(range_line)\n",
    "    freq_domain_data[az_index, :] = range_fft\n",
    "\n",
    "for range_index in range(len_range_line):\n",
    "    az_line = freq_domain_data[:, range_index]\n",
    "    az_fft = np.fft.fft(az_line)\n",
    "    az_fft = np.fft.fftshift(az_fft)\n",
    "    freq_domain_data[:, range_index] = az_fft"
   ]
  },
  {
   "cell_type": "markdown",
   "id": "e1539c33",
   "metadata": {},
   "source": [
    "### 4.3 - Range compression - create and apply matched filter\n",
    "\n",
    "Range compression is relatively simple. Range information is encoded in the arrival time of the pulse echo (i.e. an echo from a target further away will take longer to arrive), so by applying a matched filter consisting of the transmitted pulse, we can effectively focus the image along the range axis.\n",
    "\n",
    "We can synthesize a replica of the Tx pulse from parameters specified in the packet metadata. Since we're operating in the frequency domain, we also need to transform our pulse replica that we're using as a matched filter to the frequency domain, then take the complex conjugate. FInally, we need to multiply every range line by our matched filter.\n",
    "\n",
    "The Tx pulse is given by\n",
    "\n",
    "$$\\text{Tx Pulse} = exp\\biggl\\{2i\\pi\\Bigl(\\bigl(\\text{TXPSF} + \\frac{\\text{TXPRR  TXPL}}{2}\\bigl)\\tau + \\frac{\\text{TXPRR}}{2}\\tau^{2}\\Bigl)\\biggl\\}$$\n",
    "\n",
    "where $\\text{TXPSF}$ is the Tx Pulse Start Frequency, $\\text{TXPRR}$ is the Tx Pulse Ramp Rate, and $\\text{TXPL}$ is the Tx Pulse Length."
   ]
  },
  {
   "cell_type": "code",
   "execution_count": null,
   "id": "05747c5b",
   "metadata": {},
   "outputs": [],
   "source": [
    "# Create range filter\n",
    "num_tx_vals = int(TXPL*range_sample_freq)\n",
    "tx_replica_time_vals = np.linspace(-TXPL/2, TXPL/2, num=num_tx_vals)\n",
    "phi1 = TXPSF + TXPRR*TXPL/2\n",
    "phi2 = TXPRR/2\n",
    "tx_replica = np.zeros(num_tx_vals, dtype=complex)\n",
    "for i in range(num_tx_vals):\n",
    "    tx_replica[i] = cmath.exp(2j * cmath.pi * (phi1*tx_replica_time_vals[i] + phi2*tx_replica_time_vals[i]**2))\n",
    "\n",
    "range_filter = np.zeros(len_range_line, dtype=complex)\n",
    "index_start = np.ceil((len_range_line-num_tx_vals)/2)-1\n",
    "index_end = num_tx_vals+np.ceil((len_range_line-num_tx_vals)/2)-2\n",
    "range_filter[int(index_start):int(index_end+1)] = tx_replica\n",
    "\n",
    "range_filter = np.fft.fft(range_filter)\n",
    "range_filter = np.conjugate(range_filter)\n",
    "\n",
    "for az_index in range(len_az_line):\n",
    "    freq_domain_data[az_index, :] = freq_domain_data[az_index, :]*range_filter"
   ]
  },
  {
   "cell_type": "markdown",
   "id": "285d543f",
   "metadata": {},
   "source": [
    "### 4.4 - Range cell migration correction\n",
    "\n",
    "Since the collector motion couples range and azimuth information, point targets will tend to produce returns spread in arcs across multiple range bins as the azimuth varies. We therefore need to apply a shift to align the phase history associated with each pointlike target into a single range bin, so we can then operate 1-dimensionally along the azimuth axis to perform azimuth compresison.\n",
    "\n",
    "The RCMC shift is defined by\n",
    "\n",
    "$$\\text{RCMC shift} = R_{0} \\biggl(\\frac{1}{D} - 1\\biggl)$$\n",
    "\n",
    "with $D$ being the cosine of the instantaneous squint angle and $R_{0}$ the range of closest approach, both defined in section 4.1. Since we're still operating in the frequency domain we need to apply a filter of the form\n",
    "\n",
    "$$\\text{RCMC filter} = exp\\biggl\\{4i\\pi\\frac{f_{\\tau}}{c}\\bigl(\\text{RCMC shift}\\bigl)\\biggl\\}$$\n",
    "\n",
    "Again, this needs to be multiplied by every range line in our data."
   ]
  },
  {
   "cell_type": "code",
   "execution_count": null,
   "id": "33d8c045",
   "metadata": {},
   "outputs": [],
   "source": [
    "rcmc_filt = np.zeros(len_range_line, dtype=complex)\n",
    "range_freq_vals = range_freq_vals = np.linspace(-range_sample_freq/2, range_sample_freq/2, num=len_range_line)\n",
    "for az_index in range(len_az_line):\n",
    "    rcmc_filt = np.zeros(len_range_line, dtype=complex)\n",
    "    for range_index in range(len_range_line):\n",
    "        rcmc_shift = slant_range[0]*((1/D[az_index, range_index])-1)\n",
    "        rcmc_filt[range_index] = cmath.exp(4j * cmath.pi * range_freq_vals[range_index] * rcmc_shift / c)\n",
    "    freq_domain_data[az_index, :] = freq_domain_data[az_index, :]*rcmc_filt"
   ]
  },
  {
   "cell_type": "markdown",
   "id": "10e7eb28",
   "metadata": {},
   "source": [
    "### 4.5 - Convert to range-Doppler domain\n",
    "\n",
    "We've finished processing the image in range, so we can inverse FFT back to the range domain along the range axis. The image will still be in the frequency domain in azimuth."
   ]
  },
  {
   "cell_type": "code",
   "execution_count": null,
   "id": "a67e3d7a",
   "metadata": {},
   "outputs": [],
   "source": [
    "range_doppler_data = np.zeros((len_az_line, len_range_line), dtype=complex)\n",
    "for range_line_index in range(len_az_line):\n",
    "    ifft = np.fft.ifft(freq_domain_data[range_line_index, :])\n",
    "    ifft_sorted = np.fft.ifftshift(ifft)\n",
    "    range_doppler_data[range_line_index, :] = ifft_sorted"
   ]
  },
  {
   "cell_type": "markdown",
   "id": "81176bac",
   "metadata": {},
   "source": [
    "### 4.6 - Azimuth compression - create and apply matched filter\n",
    "\n",
    "Our azimuth filter is defined by\n",
    "\n",
    "$$\\text{Azimuth filter} = exp\\biggl\\{4i\\pi\\frac{R_{0}D(f_{\\eta}, V_{r})}{\\lambda}\\biggl\\}$$\n",
    "\n",
    "Since this is the final processing step, we'll transform back to the time domain in this loop too."
   ]
  },
  {
   "cell_type": "code",
   "execution_count": null,
   "id": "7ab74952",
   "metadata": {},
   "outputs": [],
   "source": [
    "# Create azimuth filter\n",
    "az_compressed_data = np.zeros((len_az_line, len_range_line), 'complex')\n",
    "\n",
    "for az_line_index in range(len_range_line):\n",
    "    d_vector = np.zeros(len_az_line)\n",
    "    this_az_filter = np.zeros(len_az_line, 'complex')\n",
    "    for i in range(len(az_freq_vals)):\n",
    "        this_az_filter[i] = cmath.exp(4j * cmath.pi * slant_range[i] * D[i, az_line_index] / wavelength)\n",
    "    result = range_doppler_data[:, az_line_index] * this_az_filter[:]\n",
    "    result = np.fft.ifft(result)\n",
    "    az_compressed_data[:, az_line_index] = result"
   ]
  },
  {
   "cell_type": "markdown",
   "id": "a5bc7422",
   "metadata": {},
   "source": [
    "## 5 - Plot Results\n",
    "\n",
    "With azimuth compression complete, we're ready to plot our image!"
   ]
  },
  {
   "cell_type": "code",
   "execution_count": null,
   "id": "c7d869f6",
   "metadata": {},
   "outputs": [],
   "source": [
    "# Plot final image\n",
    "plt.figure(figsize=(16,100))\n",
    "plt.title(\"Sentinel-1 Processed SAR Image\")\n",
    "plt.imshow(abs(az_compressed_data[:,:]), vmin=0, vmax=2000, origin='lower')\n",
    "plt.xlabel(\"Down Range (samples)\")\n",
    "plt.ylabel(\"Cross Range (samples)\")\n",
    "plt.show()"
   ]
  },
  {
   "cell_type": "markdown",
   "id": "406178e5",
   "metadata": {},
   "source": [
    "There are still a few noteworthy issues with our image. The first is folding - notice various terrain features from the top of the image are folded into the bottom, and terrain from the left of the image is folded into the right side. The problem is exacerbated due to the relatively small size of the image. Folding in range (range ambiguities) occurs due to echoes spilling over into earlier or later sampling windows. Folding in azimuth occurs due to our sampling the azimuth spectrum of th scene at the PRF, which leads to folding in the frequency spectrum.\n",
    "\n",
    "Zooming in on one portion of the image, verious terrain features are clearly visible."
   ]
  },
  {
   "cell_type": "code",
   "execution_count": null,
   "id": "9dfaf0c1",
   "metadata": {},
   "outputs": [],
   "source": [
    "# Zoom in on a small part of our image\n",
    "plt.figure(figsize=(16,100))\n",
    "plt.title(\"Sentinel-1 Processed SAR Image\")\n",
    "plt.imshow(abs(az_compressed_data[1500:2500, 8200:9200]), vmin=0, vmax=3000, origin='lower')\n",
    "plt.xlabel(\"Down Range\")\n",
    "plt.ylabel(\"Cross range\")\n",
    "plt.show()"
   ]
  },
  {
   "cell_type": "markdown",
   "id": "8349c662",
   "metadata": {},
   "source": [
    "Compare this with an image of the same scene from Google Maps:\n",
    "\n",
    "![](data/sao_paulo/S1A_S3_RAW__0SDH_20220710T213600_20220710T213625_044043_0541DB_56CE/google_maps_image.PNG)"
   ]
  },
  {
   "cell_type": "code",
   "execution_count": null,
   "id": "96349667",
   "metadata": {},
   "outputs": [],
   "source": []
  }
 ],
 "metadata": {
  "kernelspec": {
   "display_name": "Python 3 (ipykernel)",
   "language": "python",
   "name": "python3"
  },
  "language_info": {
   "codemirror_mode": {
    "name": "ipython",
    "version": 3
   },
   "file_extension": ".py",
   "mimetype": "text/x-python",
   "name": "python",
   "nbconvert_exporter": "python",
   "pygments_lexer": "ipython3",
   "version": "3.9.12"
  }
 },
 "nbformat": 4,
 "nbformat_minor": 5
}
